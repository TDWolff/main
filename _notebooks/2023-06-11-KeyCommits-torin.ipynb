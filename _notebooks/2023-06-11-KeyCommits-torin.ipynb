{
 "cells": [
  {
   "cell_type": "markdown",
   "metadata": {},
   "source": [
    "---\n",
    "toc: true\n",
    "comments: true\n",
    "title: Key Commits\n",
    "description: All the key commits for the project\n",
    "type: tangibles\n",
    "courses: { csp: {week: 10} }\n",
    "---"
   ]
  },
  {
   "cell_type": "markdown",
   "metadata": {},
   "source": [
    "One of the most important parts of the project is the commits. This is where we can see the progress of the project and how we got to where we are now. This is a list of all the key commits that we have made throughout the project.\n",
    "\n",
    "## 11-03-2023\n",
    "Made a more sophisticated algorithm to determining what you liked based on 5 inputed movies. This algorithm is based on the genre of the movies and the actors in the movies. This is a much better algorithm than the previous one because it is more sophisticated and it is more accurate. This is a key commit because it led to us being able to make a better, and smarter algorithm for the movie db. \n",
    "\n",
    "## 10-22-2023\n",
    "Modified the header and style css files to make the website look better. This is a key commit because it made the website look better and more professional. This is important because it makes the website look more professional and it makes it look like a real website. This commit was gradually modified throughout multiple commits, but this is the first commit that made the website look better.\n",
    "\n",
    "## 10-20-2023\n",
    "We had an issue where a png specifically the Departed image wasn't loading on the github page but we fixed this issue by specifiying the exact path of the file.\n",
    "\n",
    "## 09-29-2023\n",
    "This was a momentus occasion as this date was the day we got the sign in page up and working, it paired with the AWS backend server and successfully sent data to the server for the first ever fetch to the nartbackend server.\n",
    "\n",
    "\n"
   ]
  },
  {
   "cell_type": "markdown",
   "metadata": {},
   "source": [
    "![alt text](../images/signinscren.png)"
   ]
  }
 ],
 "metadata": {
  "kernelspec": {
   "display_name": "Python 3",
   "language": "python",
   "name": "python3"
  },
  "language_info": {
   "codemirror_mode": {
    "name": "ipython",
    "version": 3
   },
   "file_extension": ".py",
   "mimetype": "text/x-python",
   "name": "python",
   "nbconvert_exporter": "python",
   "pygments_lexer": "ipython3",
   "version": "3.11.5"
  }
 },
 "nbformat": 4,
 "nbformat_minor": 2
}
