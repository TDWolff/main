{
 "cells": [
  {
   "cell_type": "markdown",
   "metadata": {},
   "source": [
    "---\n",
    "toc: true\n",
    "comments: false\n",
    "layout: post\n",
    "title: Statistics\n",
    "description: Overall statistics for this project.\n",
    "courses: { csp: {week: 2} }\n",
    "type: tangibles\n",
    "---"
   ]
  },
  {
   "cell_type": "markdown",
   "metadata": {},
   "source": [
    "After all is said and done statistics show a persons abilities and true commitment to a project. Throughout this project I worked hard to be the main guy since I was tasked with backend and because of that I had to have a lot of stuff on my back. My overall statisitcs are shown below:"
   ]
  },
  {
   "cell_type": "markdown",
   "metadata": {},
   "source": [
    "\n",
    "<!-- ![Commits 57, Contributions: 7,954, Deletions: 659](../images/contributestomain.png) -->\n",
    "![]({{ site.baseurl }}/images/contributestomain.png \"Commits 57, Contributions: 7,954, Deletions: 659\")"
   ]
  },
  {
   "cell_type": "markdown",
   "metadata": {},
   "source": [
    "The image tells us lots of imformation and most importantly it shows us commits and additions and deletions."
   ]
  },
  {
   "cell_type": "markdown",
   "metadata": {},
   "source": [
    "This is only from the frontend, the backend which is where i reside has:\n",
    "\n",
    "34 commits with 3,382 additions and 456 deletions.\n",
    "\n",
    "Total commits accross all projects is 91 commits with 11,336 additions and 1,115 deletions."
   ]
  }
 ],
 "metadata": {
  "kernelspec": {
   "display_name": "Python 3",
   "language": "python",
   "name": "python3"
  },
  "language_info": {
   "codemirror_mode": {
    "name": "ipython",
    "version": 3
   },
   "file_extension": ".py",
   "mimetype": "text/x-python",
   "name": "python",
   "nbconvert_exporter": "python",
   "pygments_lexer": "ipython3",
   "version": "3.11.5"
  }
 },
 "nbformat": 4,
 "nbformat_minor": 2
}
