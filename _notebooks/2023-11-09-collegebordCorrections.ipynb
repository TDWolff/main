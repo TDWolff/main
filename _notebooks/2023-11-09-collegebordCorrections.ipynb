{
 "cells": [
  {
   "cell_type": "markdown",
   "metadata": {},
   "source": [
    "---\n",
    "toc: true\n",
    "comments: false\n",
    "layout: post\n",
    "title: Quiz corrections\n",
    "description: Overall statistics for this project.\n",
    "courses: { csp: {week: 2} }\n",
    "type: plans\n",
    "---"
   ]
  },
  {
   "cell_type": "markdown",
   "metadata": {},
   "source": [
    "After taking the quiz i realized that i have some work to do, i missed  quite a few questions but here are some of the big ones that i needed to work om.\n",
    "\n",
    "Q22: Procedure to determine the weather.\n",
    "- The correct answer was D while I chose C, the reason i chose C was because it seemed like the most logical but after taking another look it realized that the answer was actually D because it works perfectly.\n",
    "\n",
    "Q26: Completing a robot\n",
    "- This question was concerning because if you look at the code i chose which was C it would make sense as it does complete the required task but they said the correct answer was A. I dont understand why my code wouldnt work because it does complete the task but i guess it wasnt the answer they were looking for.\n",
    "\n",
    "Q34: Mouse and predator game\n",
    "- I chose c because it seemed like the most logical answer but the correct answer was D. I chose C because it was the logical answer but at the same time this test really stretched what was considered \"Logical\" because you would think as a mouse pop inscreases, so would the predator pop but no.\n",
    "\n",
    "Q64: Cloud Computing\n",
    "- I chose A, and B because i thought that cloud computing was safe and \"eliminated redundant routing over the internet\" but at the same time that doesnt seem like a logical answer BUT they said C which conflicts with what they are asking for because they asked for why cloud computing is good and C is saying it increased security threats."
   ]
  }
 ],
 "metadata": {
  "language_info": {
   "name": "python"
  }
 },
 "nbformat": 4,
 "nbformat_minor": 2
}
