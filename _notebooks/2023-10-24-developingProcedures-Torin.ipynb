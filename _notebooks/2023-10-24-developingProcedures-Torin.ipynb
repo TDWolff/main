{
 "cells": [
  {
   "cell_type": "markdown",
   "metadata": {},
   "source": [
    "---\n",
    "toc: true\n",
    "comments: false\n",
    "layout: post\n",
    "title: Developing Procedures Work\n",
    "description: Developing Procedures Work\n",
    "type: tangibles\n",
    "courses: { csp: {week: 7} }\n",
    "---"
   ]
  },
  {
   "cell_type": "markdown",
   "metadata": {},
   "source": [
    "## Hack 1"
   ]
  },
  {
   "cell_type": "code",
   "execution_count": 8,
   "metadata": {},
   "outputs": [
    {
     "name": "stdout",
     "output_type": "stream",
     "text": [
      "55.0\n"
     ]
    }
   ],
   "source": [
    "def applyTax(cost, percentTaxed):\n",
    "    temp = 100 + percentTaxed\n",
    "    temp = temp / 100\n",
    "    cost = cost * temp\n",
    "    return round(cost, 2)\n",
    "\n",
    "price = 50\n",
    "price = applyTax(price, 10)\n",
    "\n",
    "print(price)\n"
   ]
  },
  {
   "cell_type": "markdown",
   "metadata": {},
   "source": [
    "## Hack 2"
   ]
  },
  {
   "cell_type": "code",
   "execution_count": 11,
   "metadata": {},
   "outputs": [
    {
     "name": "stdout",
     "output_type": "stream",
     "text": [
      "8\n"
     ]
    }
   ],
   "source": [
    "def difference(a, b):\n",
    "    return a - b\n",
    "print(difference(10, 2))\n"
   ]
  },
  {
   "cell_type": "markdown",
   "metadata": {},
   "source": [
    "## Hack 3"
   ]
  },
  {
   "cell_type": "code",
   "execution_count": 13,
   "metadata": {},
   "outputs": [
    {
     "name": "stdout",
     "output_type": "stream",
     "text": [
      "Honda Civic\n",
      "2023\n",
      "22000\n"
     ]
    }
   ],
   "source": [
    "# Define the Car class\n",
    "class Car:\n",
    "    def __init__(self, name, model_year, price):\n",
    "        self.name = name\n",
    "        self.model_year = model_year\n",
    "        self.price = price\n",
    "\n",
    "# Create instances of the Car class\n",
    "honda_civic = Car(\"Honda Civic\", 2018, 13000)\n",
    "toyota_prius = Car(\"Toyota Prius\", 2023, 28000)\n",
    "chevrolet_impala = Car(\"Chevrolet Impala\", 2020, 22000)\n",
    "\n",
    "# Name of Honda Car\n",
    "print(honda_civic.name)\n",
    "# Price of Toyota Prius\n",
    "print(toyota_prius.model_year)\n",
    "# Model year of Chevrolet Impala\n",
    "print(chevrolet_impala.price)\n"
   ]
  },
  {
   "cell_type": "markdown",
   "metadata": {},
   "source": [
    "## Homework"
   ]
  },
  {
   "cell_type": "code",
   "execution_count": 15,
   "metadata": {},
   "outputs": [
    {
     "ename": "ModuleNotFoundError",
     "evalue": "No module named '_tkinter'",
     "output_type": "error",
     "traceback": [
      "\u001b[0;31m---------------------------------------------------------------------------\u001b[0m",
      "\u001b[0;31mModuleNotFoundError\u001b[0m                       Traceback (most recent call last)",
      "\u001b[1;32m/Users/torinwolff/Documents/GitHub/main/_notebooks/2023-10-24-developingProcedures-Torin.ipynb Cell 9\u001b[0m line \u001b[0;36m1\n\u001b[0;32m----> <a href='vscode-notebook-cell:/Users/torinwolff/Documents/GitHub/main/_notebooks/2023-10-24-developingProcedures-Torin.ipynb#X20sZmlsZQ%3D%3D?line=0'>1</a>\u001b[0m \u001b[39mimport\u001b[39;00m \u001b[39mturtle\u001b[39;00m\n\u001b[1;32m      <a href='vscode-notebook-cell:/Users/torinwolff/Documents/GitHub/main/_notebooks/2023-10-24-developingProcedures-Torin.ipynb#X20sZmlsZQ%3D%3D?line=2'>3</a>\u001b[0m pen \u001b[39m=\u001b[39m turtle\u001b[39m.\u001b[39mTurtle(); \u001b[39m# pen is the instance of Turtle which has methods that do certain actions\u001b[39;00m\n\u001b[1;32m      <a href='vscode-notebook-cell:/Users/torinwolff/Documents/GitHub/main/_notebooks/2023-10-24-developingProcedures-Torin.ipynb#X20sZmlsZQ%3D%3D?line=4'>5</a>\u001b[0m \u001b[39m# Necessary methods:\u001b[39;00m\n\u001b[1;32m      <a href='vscode-notebook-cell:/Users/torinwolff/Documents/GitHub/main/_notebooks/2023-10-24-developingProcedures-Torin.ipynb#X20sZmlsZQ%3D%3D?line=5'>6</a>\u001b[0m \u001b[39m# .forward(50) - moves the pen forward 50 units\u001b[39;00m\n\u001b[1;32m      <a href='vscode-notebook-cell:/Users/torinwolff/Documents/GitHub/main/_notebooks/2023-10-24-developingProcedures-Torin.ipynb#X20sZmlsZQ%3D%3D?line=6'>7</a>\u001b[0m \u001b[39m# .right(angle) - turns the pen angle degrees right   \u001b[39;00m\n\u001b[1;32m      <a href='vscode-notebook-cell:/Users/torinwolff/Documents/GitHub/main/_notebooks/2023-10-24-developingProcedures-Torin.ipynb#X20sZmlsZQ%3D%3D?line=7'>8</a>\u001b[0m \u001b[39m# OR\u001b[39;00m\n\u001b[1;32m      <a href='vscode-notebook-cell:/Users/torinwolff/Documents/GitHub/main/_notebooks/2023-10-24-developingProcedures-Torin.ipynb#X20sZmlsZQ%3D%3D?line=8'>9</a>\u001b[0m \u001b[39m# .left(angle) - turns the pen angle degrees left\u001b[39;00m\n",
      "File \u001b[0;32m/opt/homebrew/Cellar/python@3.11/3.11.5/Frameworks/Python.framework/Versions/3.11/lib/python3.11/turtle.py:107\u001b[0m\n\u001b[1;32m    103\u001b[0m _ver \u001b[39m=\u001b[39m \u001b[39m\"\u001b[39m\u001b[39mturtle 1.1b- - for Python 3.1   -  4. 5. 2009\u001b[39m\u001b[39m\"\u001b[39m\n\u001b[1;32m    105\u001b[0m \u001b[39m# print(_ver)\u001b[39;00m\n\u001b[0;32m--> 107\u001b[0m \u001b[39mimport\u001b[39;00m \u001b[39mtkinter\u001b[39;00m \u001b[39mas\u001b[39;00m \u001b[39mTK\u001b[39;00m\n\u001b[1;32m    108\u001b[0m \u001b[39mimport\u001b[39;00m \u001b[39mtypes\u001b[39;00m\n\u001b[1;32m    109\u001b[0m \u001b[39mimport\u001b[39;00m \u001b[39mmath\u001b[39;00m\n",
      "File \u001b[0;32m/opt/homebrew/Cellar/python@3.11/3.11.5/Frameworks/Python.framework/Versions/3.11/lib/python3.11/tkinter/__init__.py:38\u001b[0m\n\u001b[1;32m     35\u001b[0m \u001b[39mimport\u001b[39;00m \u001b[39msys\u001b[39;00m\n\u001b[1;32m     36\u001b[0m \u001b[39mimport\u001b[39;00m \u001b[39mtypes\u001b[39;00m\n\u001b[0;32m---> 38\u001b[0m \u001b[39mimport\u001b[39;00m \u001b[39m_tkinter\u001b[39;00m \u001b[39m# If this fails your Python may not be configured for Tk\u001b[39;00m\n\u001b[1;32m     39\u001b[0m TclError \u001b[39m=\u001b[39m _tkinter\u001b[39m.\u001b[39mTclError\n\u001b[1;32m     40\u001b[0m \u001b[39mfrom\u001b[39;00m \u001b[39mtkinter\u001b[39;00m\u001b[39m.\u001b[39;00m\u001b[39mconstants\u001b[39;00m \u001b[39mimport\u001b[39;00m \u001b[39m*\u001b[39m\n",
      "\u001b[0;31mModuleNotFoundError\u001b[0m: No module named '_tkinter'"
     ]
    }
   ],
   "source": [
    "import turtle\n",
    "\n",
    "pen = turtle.Turtle(); # pen is the instance of Turtle which has methods that do certain actions\n",
    "\n",
    "\n",
    "def shape(sides):\n",
    "    angle = 360 / sides\n",
    "    for i in range(sides):\n",
    "        pen.forward(50)\n",
    "        pen.right(angle)\n",
    "\n",
    "numsides = int(input('How many sides do you want in your shape?: '))\n",
    "shape(numsides)\n"
   ]
  },
  {
   "cell_type": "code",
   "execution_count": 20,
   "metadata": {},
   "outputs": [
    {
     "name": "stdout",
     "output_type": "stream",
     "text": [
      "My name is Torin Wolff. My email is torin****wolff@gmail.com. My grade is 94\n"
     ]
    }
   ],
   "source": [
    "\n",
    "class Student:\n",
    "    def __init__(self, email, name, grade):\n",
    "        self.email = email\n",
    "        self.name = name\n",
    "        self.grade = grade\n",
    "    \n",
    "    def get_email(self):\n",
    "        return self.email\n",
    "    \n",
    "    def get_name(self):\n",
    "        return self.name\n",
    "    \n",
    "    def get_grade(self):\n",
    "        return self.grade\n",
    "    \n",
    "    def set_email(self, email):\n",
    "        self.email = email\n",
    "    \n",
    "    def set_name(self, name):\n",
    "        self.name = name\n",
    "    \n",
    "    def set_grade(self, grade):\n",
    "        self.grade = grade\n",
    "    \n",
    "    def __str__(self):\n",
    "        return f\"My name is {self.name}. My email is {self.email}. My grade is {self.grade}\"\n",
    "\n",
    "# Create an instance of the class that corresponds with you\n",
    "my_student = Student(\"torin****wolff@gmail.com\", \"Torin Wolff\", 94)\n",
    "\n",
    "print(my_student)\n"
   ]
  }
 ],
 "metadata": {
  "kernelspec": {
   "display_name": "Python 3",
   "language": "python",
   "name": "python3"
  },
  "language_info": {
   "codemirror_mode": {
    "name": "ipython",
    "version": 3
   },
   "file_extension": ".py",
   "mimetype": "text/x-python",
   "name": "python",
   "nbconvert_exporter": "python",
   "pygments_lexer": "ipython3",
   "version": "3.11.5"
  },
  "orig_nbformat": 4
 },
 "nbformat": 4,
 "nbformat_minor": 2
}
