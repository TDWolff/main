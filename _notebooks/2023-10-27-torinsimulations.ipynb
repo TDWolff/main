{
 "cells": [
  {
   "cell_type": "markdown",
   "metadata": {},
   "source": [
    "## Hack 1"
   ]
  },
  {
   "cell_type": "code",
   "execution_count": 3,
   "metadata": {},
   "outputs": [
    {
     "name": "stdout",
     "output_type": "stream",
     "text": [
      "Die 1 is: 5\n",
      "Die 2 is: 2\n",
      "The sum of both dice is: 7\n"
     ]
    }
   ],
   "source": [
    "import random\n",
    "\n",
    "# roll two dice\n",
    "die1 = random.randint(1, 6)\n",
    "die2 = random.randint(1, 6)\n",
    "\n",
    "# print the sum of both dice\n",
    "print(\"Die 1 is:\", die1)\n",
    "print(\"Die 2 is:\", die2)\n",
    "print(\"The sum of both dice is:\", die1 + die2)\n"
   ]
  }
 ],
 "metadata": {
  "kernelspec": {
   "display_name": "Python 3",
   "language": "python",
   "name": "python3"
  },
  "language_info": {
   "codemirror_mode": {
    "name": "ipython",
    "version": 3
   },
   "file_extension": ".py",
   "mimetype": "text/x-python",
   "name": "python",
   "nbconvert_exporter": "python",
   "pygments_lexer": "ipython3",
   "version": "3.11.5"
  },
  "orig_nbformat": 4
 },
 "nbformat": 4,
 "nbformat_minor": 2
}
